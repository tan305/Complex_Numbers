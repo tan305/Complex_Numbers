{
 "cells": [
  {
   "cell_type": "markdown",
   "metadata": {},
   "source": [
    "# Task: Making `Complex_Numbers` Package:"
   ]
  },
  {
   "cell_type": "markdown",
   "metadata": {},
   "source": [
    "Note:\n",
    "\n",
    "* You are not allowed to use any internal `complex number` library or a python package.\n",
    "\n",
    "Define a class called `complex_number` which accepts 2 parameters:\n",
    "\n",
    "* x: int64, float64, represents real component of the complex number\n",
    "* y: int64, float64, represents imaginary component of the complex number\n",
    "\n",
    "Example, `complex_number(3, 5)` means 3 is the real part of the complex number and 5 is the imaginary part of the complex number. Such a number is represented as 3 + 5i.\n",
    "\n",
    "Here is [a resource](http://www.careerbless.com/aptitude/qa/complex_numbers_imp.php) to help you with the required information to solve this assignment. You can take help from other online resources as well.\n",
    "\n",
    "### Questions:\n",
    "\n",
    "Define the follwoing operations for the class: \n",
    "\n",
    "* representation in the form of x + yi when used with `print` command\n",
    "* '+'\n",
    "* '-'\n",
    "* '*'\n",
    "* '/'\n",
    "* abs()\n",
    "\n",
    "* Note that these operations should be compatible with `int` and `float` datatypes as well\n",
    "\n",
    "Also, define following methods.\n",
    "\n",
    "\n",
    "* real() [Returns real component of the complex number]\n",
    "* imag() [Returns complex component of the complex number]\n",
    "* argument() [Returns argument of the complex number]\n",
    "* conjugate() [Returns conjugate of the complex number]\n",
    "\n",
    "Include error handling"
   ]
  },
  {
   "cell_type": "code",
   "execution_count": 1,
   "metadata": {},
   "outputs": [],
   "source": [
    "class complex_number(object):\n",
    "    \n",
    "    def __init__(self,x,y=0.0):\n",
    "        self.x=x\n",
    "        self.y=y\n",
    "    def __str__(self):\n",
    "        return 'x: %i, y: %i' % (self.x, self.y)        \n",
    "    \n",
    "    def __setattr__(self, name, value):\n",
    "        if ((name == 'y'or name=='x') and not isinstance(value, (int,float))):\n",
    "            raise TypeError('numbers must be an int or float')\n",
    "        super().__setattr__(name, value)\n",
    "    \n",
    "    def print(self):                            #prints in the form of \"x+iy\"\n",
    "        try:\n",
    "            if isinstance(self.x,(int,float)) & isinstance(self.y,(int,float)): \n",
    "                    print(self.x,\"+\",self.y,\"i\")\n",
    "            else:\n",
    "                print(\"Values for real and imaginary part should be int or float type\")\n",
    "        except TypeError:\n",
    "            print(\"Values for real and imaginary part should be int or float type\")                \n",
    "\n",
    "\n",
    "    def conjugate(self):                        #returns tuple of real and imaginary part after conjugating the complex number\n",
    "        try:\n",
    "            if isinstance(self.x,(int,float)) & isinstance(self.y,(int,float)):\n",
    "                return self.x,-self.y\n",
    "            else:\n",
    "                print(\"Values for real and imaginary part should be int or float type\")\n",
    "        except TypeError:\n",
    "            print(\"Values for real and imaginary part should be int or float type\")            \n",
    "\n",
    "\n",
    "    def real(self):                             #returns the real part of the complex number\n",
    "        try:\n",
    "            if isinstance(self.x,(int,float)):\n",
    "                return self.x\n",
    "            else:\n",
    "                print(\"Values for real part should be int or float type\")  \n",
    "        except TypeError:\n",
    "            print(\"Values for real and imaginary part should be int or float type\")        \n",
    "\n",
    "    def imag(self):                              #returns the imaginary part of the complex number                             \n",
    "        try:\n",
    "            if isinstance(self.y,(int,float)):\n",
    "                return self.y\n",
    "            else:\n",
    "                print(\"Values for real and imaginary part should be int or float type\")\n",
    "        except TypeError:\n",
    "            print(\"Values for real and imaginary part should be int or float type\")            \n",
    "\n",
    "\n",
    "    def __add__(self,other):                    #returns tuple of real and imaginary part after adding two complex number\n",
    "        try:\n",
    "            return self.x+other.x,self.y+other.y\n",
    "        except TypeError:\n",
    "            print(\"Values for real and imaginary part should be int or float type\")            \n",
    "\n",
    "    def __sub__(self,other):                #returns tuple of 2 of real and imaginary part after subtracting two complex number\n",
    "        try:\n",
    "            return self.x-other.x,self.y-other.y\n",
    "        except TypeError:\n",
    "            print(\"Values for real and imaginary part should be int or float type\")            \n",
    "\n",
    "    def __mul__(self,other):               #returns tuple of 2 of real and imaginary part after multiplying two complex number\n",
    "        try:\n",
    "            return self.x*other.x-self.y*other.y,self.x*other.y+other.x*self.y \n",
    "        except TypeError:\n",
    "            print(\"Values for real and imaginary part should be int or float type\")            \n",
    "\n",
    "    def __truediv__(self, other):         #returns tuple of 2 of real and imaginary part after dividing two complex number\n",
    "        try:\n",
    "            a=(self.x*other.x+self.y*other.y)/(other.x**2+other.y**2)\n",
    "            b=(self.x*other.y-other.x*self.y)/(other.x**2+other.y**2)\n",
    "            return a,b\n",
    "        except ZeroDivisionError:\n",
    "            print(\"Values of either real or imaginary part of complex number in the denominator should be a value other than 0\")\n",
    "        except TypeError:\n",
    "            print(\"Values for real and imaginary part should be int or float type\")   \n",
    "\n",
    "    def __abs__(self):                          #returns the absolute value of the complex number\n",
    "        try:\n",
    "            a=(pow(self.x,2) + pow(self.y,2))\n",
    "            return a**(1/2)\n",
    "        except TypeError:\n",
    "            print(\"Values for real and imaginary part should be int or float type\")   \n",
    "\n",
    "\n",
    "    def argument(self):                         #returns the argument of the complex number\n",
    "        try:\n",
    "            import math\n",
    "            return math.atan(self.y/self.x)\n",
    "        except ZeroDivisionError:\n",
    "            print(\"Real part of the complex number should be a value other than 0\")\n",
    "        except TypeError:\n",
    "            print(\"Values for real and imaginary part should be int or float type\")"
   ]
  },
  {
   "cell_type": "code",
   "execution_count": 2,
   "metadata": {},
   "outputs": [],
   "source": [
    "u=complex_number(9,2)\n",
    "v=complex_number(8,-6)"
   ]
  },
  {
   "cell_type": "code",
   "execution_count": 3,
   "metadata": {
    "scrolled": true
   },
   "outputs": [
    {
     "name": "stdout",
     "output_type": "stream",
     "text": [
      "9 + 2 i\n"
     ]
    }
   ],
   "source": [
    "u.print()"
   ]
  },
  {
   "cell_type": "code",
   "execution_count": 4,
   "metadata": {
    "scrolled": true
   },
   "outputs": [
    {
     "data": {
      "text/plain": [
       "10.0"
      ]
     },
     "execution_count": 4,
     "metadata": {},
     "output_type": "execute_result"
    }
   ],
   "source": [
    "abs(v)"
   ]
  },
  {
   "cell_type": "code",
   "execution_count": 5,
   "metadata": {},
   "outputs": [
    {
     "data": {
      "text/plain": [
       "9"
      ]
     },
     "execution_count": 5,
     "metadata": {},
     "output_type": "execute_result"
    }
   ],
   "source": [
    "u.real()          "
   ]
  },
  {
   "cell_type": "code",
   "execution_count": 6,
   "metadata": {},
   "outputs": [
    {
     "data": {
      "text/plain": [
       "2"
      ]
     },
     "execution_count": 6,
     "metadata": {},
     "output_type": "execute_result"
    }
   ],
   "source": [
    "u.imag()"
   ]
  },
  {
   "cell_type": "code",
   "execution_count": 7,
   "metadata": {},
   "outputs": [
    {
     "data": {
      "text/plain": [
       "(9, -2)"
      ]
     },
     "execution_count": 7,
     "metadata": {},
     "output_type": "execute_result"
    }
   ],
   "source": [
    "u.conjugate()"
   ]
  },
  {
   "cell_type": "code",
   "execution_count": 8,
   "metadata": {},
   "outputs": [
    {
     "data": {
      "text/plain": [
       "0.21866894587394195"
      ]
     },
     "execution_count": 8,
     "metadata": {},
     "output_type": "execute_result"
    }
   ],
   "source": [
    "u.argument()"
   ]
  },
  {
   "cell_type": "code",
   "execution_count": 9,
   "metadata": {},
   "outputs": [
    {
     "data": {
      "text/plain": [
       "(17, -4)"
      ]
     },
     "execution_count": 9,
     "metadata": {},
     "output_type": "execute_result"
    }
   ],
   "source": [
    "u+v"
   ]
  },
  {
   "cell_type": "code",
   "execution_count": 10,
   "metadata": {},
   "outputs": [
    {
     "data": {
      "text/plain": [
       "(1, 8)"
      ]
     },
     "execution_count": 10,
     "metadata": {},
     "output_type": "execute_result"
    }
   ],
   "source": [
    "u-v"
   ]
  },
  {
   "cell_type": "code",
   "execution_count": 11,
   "metadata": {},
   "outputs": [
    {
     "data": {
      "text/plain": [
       "(84, -38)"
      ]
     },
     "execution_count": 11,
     "metadata": {},
     "output_type": "execute_result"
    }
   ],
   "source": [
    "u*v"
   ]
  },
  {
   "cell_type": "code",
   "execution_count": 12,
   "metadata": {},
   "outputs": [
    {
     "data": {
      "text/plain": [
       "(0.6, -0.7)"
      ]
     },
     "execution_count": 12,
     "metadata": {},
     "output_type": "execute_result"
    }
   ],
   "source": [
    "u/v"
   ]
  }
 ],
 "metadata": {
  "kernelspec": {
   "display_name": "Python 3",
   "language": "python",
   "name": "python3"
  },
  "language_info": {
   "codemirror_mode": {
    "name": "ipython",
    "version": 3
   },
   "file_extension": ".py",
   "mimetype": "text/x-python",
   "name": "python",
   "nbconvert_exporter": "python",
   "pygments_lexer": "ipython3",
   "version": "3.6.2"
  },
  "widgets": {
   "state": {},
   "version": "1.1.2"
  }
 },
 "nbformat": 4,
 "nbformat_minor": 2
}
